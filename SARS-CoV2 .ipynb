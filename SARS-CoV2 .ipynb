{
 "cells": [
  {
   "cell_type": "code",
   "execution_count": 7,
   "metadata": {},
   "outputs": [
    {
     "name": "stdout",
     "output_type": "stream",
     "text": [
      "MFVFLVLLPLVSSQCVN\u001b[31mF\u001b[0mT\u001b[31mN\u001b[0mTQLP\u001b[31mS\u001b[0mYTNSFTRGVYYPDKVFRSSVLHSTQDLFLPFFSNVTWFHAIHV\n",
      "SGTNGTKRFDNPVLPFNDGVYFASTEKSNIIRGWIFGTTLDSKTQSLLIVNNATNVVIKVCEFQFC\u001b[31mY\u001b[0mPF\n",
      "LGVYYHKNNKSWMESEFRVYSSANNCTFEYVSQPFLMDLEGKQGNFK\u001b[31mS\u001b[0mREFVFKNIDGYFKIYSKHTPI\n",
      "NLVRDLPQGFSALEPLVDLPIGINITRFQTLLALHRSYLTPGDSSSGWTAGAAAYYVGYLQPRTFLLKYN\n",
      "ENGTITDAVDCALDPLSETKCTLKSFTVEKGIYQTSNFRVQPTESIVRFPNITNLCPFGEVFNATRFASV\n",
      "YAWNRKRISNCVADYSVLYNSASFSTFKCYGVSPTKLNDLCFTNVYADSFVIRGDEVRQIA\u001b[31mT\u001b[0mQTGKIAD\n",
      "YNYKLPDDFTGCVIAWNSNNLDSKVGGNYNYLYRLFRKSNLKPFERDISTEIYQAGS\u001b[31mK\u001b[0mCNGVEGFNCYF\n",
      "PLQ\u001b[31mY\u001b[0mGFQPTNGVGYQPYRVVVLSFELLHAPATVCGPKKSTNLVKNKCVNFNFNGLTGTGVLTESNKKFL\n",
      "PFQQFGRDIADTTDAVRDPQTLEILDITPCSFGGVSVITPGTNTS\u001b[31mG\u001b[0mVAVLYQDVNCTEVPVAIHADQLT\n",
      "PTWRVYSTGSNVFQT\u001b[31mY\u001b[0mGCLIGAEHVNNSYECDIPIGAGICASYQTQTNSPRRARSVASQSIIAYTMSLG\n",
      "AENSVAYSNNSIAIPTNFTISVTTEILPVSMTKTSVDCTMYICGDSTECSNLLLQYGSFCTQLNRALTGI\n",
      "AVEQDKNTQEVFAQVKQIYKTPPIKDFGGFNFSQILPDPSKPSKRSFIEDLLFNKVTLADAGFIKQYGDC\n",
      "LGDIAARDLICAQKFNGLTVLPPLLTDEMIAQYTSALLAGTITSGWTFGAGAALQIPFAMQMAYRFNGIG\n",
      "VTQNVLYENQKLIANQFNSAIGKIQDSLSSTASALGKLQDVVNQNAQALNTLVKQLSSNFGAISSVLNDI\n",
      "LSRLDKVEAEVQIDRLITGRLQSLQTYVTQQL\u001b[31mI\u001b[0mAAEIRASANLAATKMSECVLGQSKRVDFCGKGYHLM\n",
      "SFPQSAPHGVVFLHVTYVPAQEKNFTTAPAICHDGKAHFPREGVFVSNGTHWFVTQRNFYEPQIITTDNT\n",
      "FVSGNCDVVIGIVNNTVYDPLQPELDSFKEELDKYFKNH\u001b[31mF\u001b[0mPDVDLGDISGINASVVNIQKEIDRLNEVA\n",
      "KNLNESLIDLQELGKYEQYIKWPWYIWLGFIAGLIAIVMVTIMLCCMTSCCSCLKGCCSCGSCCKFDEDD\n",
      "SEPVLKGVKLHYT\n",
      "\n"
     ]
    }
   ],
   "source": [
    "import numpy as np\n",
    "import pandas as pd\n",
    "from colorama import Fore, Style #For coloring the mutations in the sequence\n",
    "\n",
    "\n",
    "# Replacing string alphabets at a particular index number\n",
    "\n",
    "# defining a function for converting list to string\n",
    "def lstostr(seq):\n",
    "    str1=\"\"\n",
    "    return(str1.join(seq))\n",
    "\n",
    "\n",
    "#opening the data file    \n",
    "\n",
    "my_file=open(\"C:/Users/91992/Desktop/COV2.txt\")\n",
    "peptide= my_file.read()\n",
    "\n",
    "\n",
    "#converting the string data into list\n",
    "\n",
    "peptide1=list(peptide.lower())\n",
    "\n",
    "\n",
    "# Replacing the desired AA in the list\n",
    "\n",
    "peptide1.insert(18,'F') \n",
    "peptide1.pop(19)\n",
    "peptide1.insert(20,'N') \n",
    "peptide1.pop(21)\n",
    "peptide1.insert(26,'S') \n",
    "peptide1.pop(27)\n",
    "peptide1.insert(138,'Y') \n",
    "peptide1.pop(139)\n",
    "peptide1.insert(190,'S') \n",
    "peptide1.pop(191)\n",
    "peptide1.insert(417,'T') \n",
    "peptide1.pop(418)\n",
    "peptide1.insert(484,'K') \n",
    "peptide1.pop(485)\n",
    "peptide1.insert(501,'Y') \n",
    "peptide1.pop(502)\n",
    "peptide1.insert(614,'G') \n",
    "peptide1.pop(615)\n",
    "peptide1.insert(655,'Y') \n",
    "peptide1.pop(656)\n",
    "peptide1.insert(1027,'I') \n",
    "peptide1.pop(1028)\n",
    "peptide1.insert(1176,'F') \n",
    "peptide1.pop(1177)\n",
    "\n",
    "\n",
    "# converting the list back to string\n",
    "\n",
    "seq=peptide1\n",
    "seq1=lstostr(seq)\n",
    "seqnew=seq1.upper()\n",
    "\n",
    "\n",
    "# saving the output to a file\n",
    "\n",
    "my_file1=open(\"cov2seq.txt\",\"w\")\n",
    "my_file1.write(seqnew)\n",
    "print(seqnew[0:17]+Fore.RED+seqnew[18]+Style.RESET_ALL+seqnew[19]+Fore.RED+seqnew[20]+Style.RESET_ALL+seqnew[21:25]+Fore.RED+seqnew[26]+Style.RESET_ALL+seqnew[27:137]+Fore.RED+seqnew[138]+Style.RESET_ALL+seqnew[139:189]+Fore.RED+seqnew[190]+Style.RESET_ALL+seqnew[191:416]+Fore.RED+seqnew[417]+Style.RESET_ALL+seqnew[418:483]+Fore.RED+seqnew[484]+Style.RESET_ALL+seqnew[485:500]+Fore.RED+seqnew[501]+Style.RESET_ALL+seqnew[502:613]+Fore.RED+seqnew[614]+Style.RESET_ALL+seqnew[615:654]+Fore.RED+seqnew[655]+Style.RESET_ALL+seqnew[656:1026]+Fore.RED+seqnew[1027]+Style.RESET_ALL+seqnew[1028:1175]+Fore.RED+seqnew[1176]+Style.RESET_ALL+seqnew[1177:])\n",
    "\n",
    "#print format:indices of the sequence to keep black + index of the mutation to be coloured + Style.RESET_ALL(this resets the previously applied function. Mandatory to use after every mutation to be coloured otherwise this will colour the entire sequence red from the specified index number)+Repeat the steps for as many mutations as you want to color.\n",
    "\n"
   ]
  },
  {
   "cell_type": "code",
   "execution_count": null,
   "metadata": {},
   "outputs": [],
   "source": []
  },
  {
   "cell_type": "code",
   "execution_count": null,
   "metadata": {},
   "outputs": [],
   "source": [
    "\n"
   ]
  },
  {
   "cell_type": "code",
   "execution_count": null,
   "metadata": {},
   "outputs": [],
   "source": []
  },
  {
   "cell_type": "code",
   "execution_count": null,
   "metadata": {},
   "outputs": [],
   "source": []
  },
  {
   "cell_type": "code",
   "execution_count": null,
   "metadata": {},
   "outputs": [],
   "source": []
  }
 ],
 "metadata": {
  "kernelspec": {
   "display_name": "Python 3",
   "language": "python",
   "name": "python3"
  },
  "language_info": {
   "codemirror_mode": {
    "name": "ipython",
    "version": 3
   },
   "file_extension": ".py",
   "mimetype": "text/x-python",
   "name": "python",
   "nbconvert_exporter": "python",
   "pygments_lexer": "ipython3",
   "version": "3.8.5"
  }
 },
 "nbformat": 4,
 "nbformat_minor": 4
}
